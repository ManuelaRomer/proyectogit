{
 "cells": [
  {
   "cell_type": "code",
   "execution_count": null,
   "metadata": {
    "colab": {
     "base_uri": "https://localhost:8080/"
    },
    "id": "JMPuQTR24ioY",
    "outputId": "5fde8ba4-a488-4a32-df7c-ba718b209040"
   },
   "outputs": [
    {
     "name": "stdout",
     "output_type": "stream",
     "text": [
      "-------MI BANCO PERSONAL-------\n",
      "Digite el día: lunes\n",
      "Digite el valor del ahorro del día: 695\n",
      "El día Lunes se ahorró $695.00\n",
      "Desea continuar con otro dia? (SI-NO): SI\n",
      "Digite el día: martes\n",
      "Digite el valor del ahorro del día: 900\n",
      "El día Martes se ahorró $900.00\n",
      "Desea continuar con otro dia? (SI-NO): SI\n",
      "Digite el día: miercoles\n",
      "Digite el valor del ahorro del día: 600\n",
      "El día Miercoles se ahorró $600.00\n",
      "Desea continuar con otro dia? (SI-NO): NO\n",
      "----REPORTES----\n",
      "Ahorro durante 3 dias de la semana\n",
      "El total ahorrado en la semana fue de: $2,195.00\n",
      "El Martes fue el de mayor ahorro con $900.00\n"
     ]
    }
   ],
   "source": [
    "#PROYECTO FINAL\n",
    "#El monto debe de ser positivo\n",
    "#Se debe de validar que los datos sean correctos y que se capture hasta que se haga de manera correcta\n",
    "#Los dias son: lunes, martes, miercoles, jueves y viernes\n",
    "#REPORTES: Cuantos días ahorro? Cuanto es el monto total ahorrado?, cual fue el dia que mas ahorró y cuanto?\n",
    "#Aplicar funciones\n",
    "\n",
    "#variables auxiliares (Contadoras, acumuladoras, sumadoras)\n",
    "dias_ahorrados, ahorro_semana, mayor_ahorro, dia_mayor_ahorro = 0, 0, 0, None \n",
    "print(\"-------MI BANCO PERSONAL-------\")\n",
    "while True:\n",
    "  while True:\n",
    "    dia = input(\"Digite el día: \").title()\n",
    "    if dia == \"Lunes\" or dia == \"Martes\" or \"Miercoles\" or dia == \"Jueves\" or dia == \"Viernes\":\n",
    "      break\n",
    "    else:\n",
    "      print(\"Digite un dia entre lunes y viernes\")\n",
    "    continue\n",
    "\n",
    "  while True:\n",
    "    try:\n",
    "      monto = float(input(\"Digite el valor del ahorro del día: \"))\n",
    "    except:\n",
    "      print(\"Debe de digitar un valor numérico\")\n",
    "      continue\n",
    "    if monto < 0:\n",
    "      print(\"Su ahorro del día no puede ser negativo\")\n",
    "      continue\n",
    "    else:\n",
    "      break\n",
    "  \n",
    "  if mayor_ahorro < monto:\n",
    "    mayor_ahorro = monto\n",
    "    dia_mayor_ahorro = dia\n",
    "  ahorro_semana += monto\n",
    "  dias_ahorrados += 1 \n",
    "\n",
    "  print(\"El día {} se ahorró ${:,.2f}\".format(dia, monto))\n",
    "\n",
    "  otro = input(\"Desea continuar con otro dia? (SI-NO): \").upper()\n",
    "  if otro == \"SI\":\n",
    "    continue\n",
    "  else:\n",
    "    break\n",
    "\n",
    "print(\"----REPORTES----\")\n",
    "print(\"Ahorro durante {} dias de la semana\".format(dias_ahorrados))\n",
    "print(\"El total ahorrado en la semana fue de: ${:,.2f}\".format(ahorro_semana))\n",
    "print(\"El {} fue el de mayor ahorro con ${:,.2f}\".format(dia_mayor_ahorro, mayor_ahorro))\n"
   ]
  },
  {
   "cell_type": "code",
   "execution_count": null,
   "metadata": {
    "id": "GOnIcoD64pFv"
   },
   "outputs": [],
   "source": [
    "#if elif else\n",
    "estado = input(\"Como te sientes hoy?: \").lower()\n",
    "if estado==\"feliz\" or estado == \"contenta\" or estado == \"bien\":\n",
    "  print(\"Me alegra mucho\")\n",
    "  ciudad = input(\"En que ciudad vives?. \").lower()\n",
    "  if ciudad == \"cali\":\n",
    "    print(\"con razón estas {}\".format(estado))\n",
    "  else:\n",
    "    print(\"pero {} tambien es muy chevere\".format(ciudad))\n",
    "elif estado == \"triste\":\n",
    "  print(\"Lo siento mucho\")\n",
    "elif estado == \"cansada\" or estado ==  \"cansado\":\n",
    "  print(\"Debes acostarte temprano\")\n",
    "else:\n",
    "  print(\"Oh... deveras?\")"
   ]
  },
  {
   "cell_type": "code",
   "execution_count": null,
   "metadata": {
    "id": "xjQUm7i6s5N1"
   },
   "outputs": [],
   "source": [
    "#PROYECTO FINAL\n",
    "#El monto debe de ser positivo\n",
    "#Se debe de validar que los datos sean correctos y que se capture hasta que se haga de manera correcta\n",
    "#Los dias son: lunes, martes, miercoles, jueves y viernes\n",
    "#REPORTES: Cuantos días ahorro? Cuanto es el monto total ahorrado?, cual fue el dia que mas ahorró y cuanto?\n",
    "#Aplicar funciones\n",
    "\n",
    "#variables auxiliares (Contadoras, acumuladoras, sumadoras)\n",
    "dias_ahorrados, ahorro_semana, mayor_ahorro, dia_mayor_ahorro = 0, 0, 0, None \n",
    "print(\"-------MI BANCO PERSONAL-------\")\n",
    "while True:\n",
    "  while True:\n",
    "    dia = input(\"Digite el día: \").title()\n",
    "    if dia == \"Lunes\" or dia == \"Martes\" or \"Miercoles\" or dia == \"Jueves\" or dia == \"Viernes\":\n",
    "      break\n",
    "    else:\n",
    "      print(\"Digite un dia entre lunes y viernes\")\n",
    "    continue\n",
    "\n",
    "  while True:\n",
    "    try:\n",
    "      monto = float(input(\"Digite el valor del ahorro del día: \"))\n",
    "    except:\n",
    "      print(\"Debe de digitar un valor numérico\")\n",
    "      continue\n",
    "    if monto < 0:\n",
    "      print(\"Su ahorro del día no puede ser negativo\")\n",
    "      continue\n",
    "    else:\n",
    "      break\n",
    "\n",
    "  if mayor_ahorro < monto:\n",
    "    mayor_ahorro = monto\n",
    "    dia_mayor_ahorro = dia\n",
    "  ahorro_semana += monto\n",
    "  dias_ahorrados += 1 \n",
    "\n",
    "  print(\"El día {} se ahorró ${:,.2f}\".format(dia, monto))\n",
    "\n",
    "  otro = input(\"Desea continuar con otro dia? (SI-NO): \").upper()\n",
    "  if otro == \"SI\":\n",
    "    continue\n",
    "  else:\n",
    "    break\n",
    "\n",
    "print(\"----REPORTES----\")\n",
    "print(\"Ahorro durante {} dias de la semana\".format(dias_ahorrados))\n",
    "print(\"El total ahorrado en la semana fue de: ${:,.2f}\".format(ahorro_semana))\n",
    "print(\"El {} fue el de mayor ahorro con ${:,.2f}\".format(dia_mayor_ahorro, mayor_ahorro))\n",
    "  \n",
    " "
   ]
  },
  {
   "cell_type": "code",
   "execution_count": 6,
   "metadata": {
    "colab": {
     "base_uri": "https://localhost:8080/"
    },
    "id": "gC9ArwU3tLYW",
    "outputId": "953f78e0-038b-4f3b-d580-c1a1642c13e8"
   },
   "outputs": [
    {
     "name": "stdout",
     "output_type": "stream",
     "text": [
      "-------MI BANCO PERSONAL-------\n",
      "Digite el día: lunes\n",
      "Digite el valor del ahorro del día: 5000\n",
      "El día Lunes se ahorró $5,000.00\n",
      "Desea continuar con otro dia? (SI-NO): si\n",
      "Digite el día: martes\n",
      "Digite el valor del ahorro del día: 4000\n",
      "El día Martes se ahorró $4,000.00\n",
      "Desea continuar con otro dia? (SI-NO): no\n",
      "----REPORTES----\n",
      "Ahorro durante 2 dias de la semana\n",
      "El total ahorrado en la semana fue de: $9,000.00\n",
      "El Lunes fue el de mayor ahorro con $5,000.00\n"
     ]
    }
   ],
   "source": [
    "#PROYECTO FINAL\n",
    "\n",
    "#BLOQUE DE FUNCIONES \n",
    "def validar_dia():\n",
    "  while True:\n",
    "    dia = input(\"Digite el día: \").title()\n",
    "    if dia == \"Lunes\" or dia == \"Martes\" or \"Miercoles\" or dia == \"Jueves\" or dia == \"Viernes\":\n",
    "      break\n",
    "    else:\n",
    "      print(\"Digite un dia entre lunes y viernes\")\n",
    "    continue\n",
    "  return dia\n",
    "\n",
    "def validar_monto():\n",
    "  while True:\n",
    "    try:\n",
    "      monto = float(input(\"Digite el valor del ahorro del día: \"))\n",
    "    except:\n",
    "      print(\"Debe de digitar un valor numérico\")\n",
    "      continue\n",
    "    if monto < 0:\n",
    "      print(\"Su ahorro del día no puede ser negativo\")\n",
    "      continue\n",
    "    else:\n",
    "      break\n",
    "  return monto\n",
    "\n",
    "#BLOQUE PRINCIPAL\n",
    "\n",
    "#El monto debe de ser positivo\n",
    "#Se debe de validar que los datos sean correctos y que se capture hasta que se haga de manera correcta\n",
    "#Los dias son: lunes, martes, miercoles, jueves y viernes\n",
    "#REPORTES: Cuantos días ahorro? Cuanto es el monto total ahorrado?, cual fue el dia que mas ahorró y cuanto?\n",
    "#Aplicar funciones\n",
    "#variables auxiliares (Contadoras, acumuladoras, sumadoras)\n",
    "dias_ahorrados, ahorro_semana, mayor_ahorro, dia_mayor_ahorro = 0, 0, 0, None \n",
    "print(\"-------MI BANCO PERSONAL-------\")\n",
    "while True:\n",
    "  #Llamado de funciones\n",
    "  dia = validar_dia()\n",
    "  monto= validar_monto()\n",
    "\n",
    "\n",
    "  if mayor_ahorro < monto:\n",
    "    mayor_ahorro = monto\n",
    "    dia_mayor_ahorro = dia\n",
    "  ahorro_semana += monto\n",
    "  dias_ahorrados += 1 \n",
    "\n",
    "  print(\"El día {} se ahorró ${:,.2f}\".format(dia, monto))\n",
    "\n",
    "  otro = input(\"Desea continuar con otro dia? (SI-NO): \").upper()\n",
    "  if otro == \"SI\":\n",
    "    continue\n",
    "  else:\n",
    "    break\n",
    "\n",
    "print(\"----REPORTES----\")\n",
    "print(\"Ahorro durante {} dias de la semana\".format(dias_ahorrados))\n",
    "print(\"El total ahorrado en la semana fue de: ${:,.2f}\".format(ahorro_semana))\n",
    "print(\"El {} fue el de mayor ahorro con ${:,.2f}\".format(dia_mayor_ahorro, mayor_ahorro)) \n",
    "\n",
    "\n",
    "\n"
   ]
  },
  {
   "cell_type": "code",
   "execution_count": null,
   "metadata": {
    "id": "hv7au0pnjc9G"
   },
   "outputs": [],
   "source": [
    "#Funciones: organizar y reutilizar código\n",
    "#NO RECIBEN Y NO RETORNAN VALORES\n",
    "#SI RECIBEN Y NO RETORNAN VALORES\n",
    "#NO RECIBEN Y SI RETORNAN VALORES\n",
    "#SI RECIBEN Y SI RETORNAN VALORES"
   ]
  },
  {
   "cell_type": "code",
   "execution_count": 1,
   "metadata": {
    "colab": {
     "base_uri": "https://localhost:8080/"
    },
    "id": "9ZSFFI8kj03f",
    "outputId": "241d842a-fe21-4eca-a96f-7881f20f11f5"
   },
   "outputs": [
    {
     "name": "stdout",
     "output_type": "stream",
     "text": [
      "Digite el primer número: 1\n",
      "Digite el segundo número: 4\n",
      "5\n"
     ]
    }
   ],
   "source": [
    "num1 = int(input(\"Digite el primer número: \"))\n",
    "num2 = int(input(\"Digite el segundo número: \"))\n",
    "suma = num1 + num2\n",
    "print(suma)"
   ]
  },
  {
   "cell_type": "code",
   "execution_count": null,
   "metadata": {
    "id": "F0fa55Q8kRTL"
   },
   "outputs": [],
   "source": [
    "#NO RECIBEN Y NO RETORNAN VALORES\n",
    "#BLOQUE DE FUNCIONES\n",
    "def sumar_numeros():\n",
    "  num1 = int(input(\"Digite el primer número: \"))\n",
    "num2 = int(input(\"Digite el segundo número: \"))\n",
    "suma = num1 + num2\n",
    "print(suma)\n",
    "\n",
    "\n",
    "\n",
    "\n",
    "#BLOQUE PRINCIPAL\n",
    "sumar_numeros()"
   ]
  },
  {
   "cell_type": "code",
   "execution_count": null,
   "metadata": {
    "id": "i6gWl1AAm12H"
   },
   "outputs": [],
   "source": [
    "#SI RECIBEN Y NO RETORNAN VALORES\n",
    "#BLOQUE DE FUNCIONES\n",
    "def sumar_numeros(x, y): #Variables locales\n",
    "  suma = x + y\n",
    "  print(suma)\n",
    "\n",
    "\n",
    "#BLOQUE PRINCIPAL\n",
    "num1 = int(input(\"Digite el primer número: \"))\n",
    "num2 = int(input(\"Digite el segundo número: \"))\n",
    "sumar_numeros(num1, num2) #Variables globales "
   ]
  },
  {
   "cell_type": "code",
   "execution_count": null,
   "metadata": {
    "id": "CGnXKnF2oXaF"
   },
   "outputs": [],
   "source": [
    "#NO RECIBEN Y SI RETORNAN VALORES\n",
    "#BLOQUE DE FUNCIONES\n",
    "def sumar_numeros():\n",
    "  num1 = int(input(\"Digite el primer número: \"))\n",
    "  num2 = int(input(\"Digite el segundo número: \"))\n",
    "  suma = num1 + num2\n",
    "  return suma\n",
    "\n",
    "#BLOQUE PRINCIPAL\n",
    "total = sumar_numeros()\n",
    "print(total)"
   ]
  },
  {
   "cell_type": "code",
   "execution_count": 5,
   "metadata": {
    "colab": {
     "base_uri": "https://localhost:8080/"
    },
    "id": "SImj2FBJqE4h",
    "outputId": "43cbdbc0-b3d0-460a-e6f4-6760a4d72d38"
   },
   "outputs": [
    {
     "name": "stdout",
     "output_type": "stream",
     "text": [
      "Digite el primer número: 23\n",
      "Digite el segundo número: 34\n",
      "57\n"
     ]
    }
   ],
   "source": [
    "#SI RECIBEN Y NO RETORNAN VALORES\n",
    "#BLOQUE DE FUNCIONES\n",
    "def sumar_numeros(x, y): #Variables locales\n",
    "  suma = x + y\n",
    "  return suma\n",
    "  \n",
    "\n",
    "\n",
    "#BLOQUE PRINCIPAL\n",
    "num1 = int(input(\"Digite el primer número: \"))\n",
    "num2 = int(input(\"Digite el segundo número: \"))\n",
    "suma = sumar_numeros(num1, num2) #Variables globales \n",
    "print(suma)"
   ]
  },
  {
   "cell_type": "code",
   "execution_count": null,
   "metadata": {
    "id": "-WnF8Rg94tT2"
   },
   "outputs": [],
   "source": [
    "# try except\n",
    "\n",
    "try:\n",
    "  monto = float(input(\"Digite el valor del ahorro del día: \"))\n",
    "except:\n",
    "  print(\"Debe de digitar un valor numérico\")"
   ]
  },
  {
   "cell_type": "code",
   "execution_count": null,
   "metadata": {
    "id": "PXMHi6Gm4xLP"
   },
   "outputs": [],
   "source": [
    "#for  while - break continue\n",
    "for i in range(11):\n",
    "  if i == 7:\n",
    "    continue\n",
    "  print(i)"
   ]
  },
  {
   "cell_type": "code",
   "execution_count": null,
   "metadata": {
    "id": "jhIwvUiY43rY"
   },
   "outputs": [],
   "source": [
    "j = 0\n",
    "while j < 11:  \n",
    "  print(j)\n",
    "  j += 1"
   ]
  },
  {
   "cell_type": "code",
   "execution_count": null,
   "metadata": {
    "id": "b5NTEF8G844Y"
   },
   "outputs": [],
   "source": [
    "#LISTAS\n",
    "numeros = [2, 6, 89, 32] \n",
    "nombres = [\"Deivys\", \"Andrea\"]\n",
    "varios = [2, 4. 67. \"Andrea\", True, [2, 4, 8], (4, 6), {2, 67, \"Ana\"}, {\"clave\"}]"
   ]
  }
 ],
 "metadata": {
  "colab": {
   "provenance": []
  },
  "kernelspec": {
   "display_name": "Python 3",
   "name": "python3"
  },
  "language_info": {
   "name": "python",
   "version": "3.9.0"
  }
 },
 "nbformat": 4,
 "nbformat_minor": 0
}
